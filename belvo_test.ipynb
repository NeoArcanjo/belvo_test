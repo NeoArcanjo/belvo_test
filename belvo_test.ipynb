{
  "nbformat": 4,
  "nbformat_minor": 0,
  "metadata": {
    "colab": {
      "name": "belvo_test.ipynb",
      "provenance": [],
      "authorship_tag": "ABX9TyMiT4gzkrXKswWvVxXKMAYT",
      "include_colab_link": true
    },
    "kernelspec": {
      "name": "python3",
      "display_name": "Python 3"
    }
  },
  "cells": [
    {
      "cell_type": "markdown",
      "metadata": {
        "id": "view-in-github",
        "colab_type": "text"
      },
      "source": [
        "<a href=\"https://colab.research.google.com/github/NeoArcanjo/belvo_test/blob/master/belvo_test.ipynb\" target=\"_parent\"><img src=\"https://colab.research.google.com/assets/colab-badge.svg\" alt=\"Open In Colab\"/></a>"
      ]
    },
    {
      "cell_type": "code",
      "metadata": {
        "id": "s3oVIpxjrayJ",
        "colab_type": "code",
        "colab": {}
      },
      "source": [
        "# from markupsafe import escape\n",
        "# from flask import Flask, render_template\n",
        "# app = Flask(__name__)\n",
        "\n",
        "# @app.route('/', methods=['GET'])\n",
        "# def index():\n",
        "#     return render_template('index.html')\n",
        "\n",
        "\n",
        "# @app.route('/user/<username>')\n",
        "# def show_user_profile(username):\n",
        "#     # show the user profile for that user\n",
        "#     return 'User %s' % escape(username)\n",
        "\n",
        "\n",
        "# @app.route('/post/<int:post_id>')\n",
        "# def show_post(post_id):\n",
        "#     # show the post with the given id, the id is an integer\n",
        "#     return 'Post %d' % post_id\n",
        "\n",
        "\n",
        "# @app.route('/path/<path:subpath>')\n",
        "# def show_subpath(subpath):\n",
        "#     # show the subpath after /path/\n",
        "#     return 'Subpath %s' % escape(subpath)\n",
        "\n",
        "from belvo.client import Client\n",
        "from pprint import pprint\n",
        "\n",
        "# Login to Belvo API\n",
        "client = Client(\"ae2c7079-1a45-43e2-b987-ba0de17fea24\",\n",
        "                \"O@pv60R4YTAQLrS15FsfF8SncpfETbd#KpvKzDmAdWr#A52w_9@8l9A0nFD4Awwo\",\n",
        "                \"https://sandbox.belvo.co\")\n",
        "\n",
        "# Register a link\n",
        "link = client.Links.create(\n",
        "    institution=\"banamex\",\n",
        "    username=\"johndoe\",\n",
        "    password=\"supersecret\"\n",
        ")\n",
        "\n",
        "# Get all accounts\n",
        "# client.Accounts.create(link[\"id\"])\n",
        "\n",
        "# Pretty print all checking accounts\n",
        "for account in client.Accounts.list(type=\"checking\"):\n",
        "    pprint(account)\n",
        "\n",
        "for institution in client.Institutions.list():\n",
        "    pprint(institution)\n",
        "    \n",
        "# {'code': '014',\n",
        "#  'country_codes': ['MX'],\n",
        "#  'customization': {},\n",
        "#  'display_name': 'Santander',\n",
        "#  'form_fields': [{'label': 'Nº cliente / Nº tarjeta / Nº cuenta',\n",
        "#                   'name': 'username',\n",
        "#                   'placeholder': 'Ej. 1111222233334444',\n",
        "#                   'type': 'number',\n",
        "#                   'validation': '^\\\\d{6,20}$',\n",
        "#                   'validation_message': 'Requiere entre 8 y 16 dígitos'},\n",
        "#                  {'label': 'Contraseña SuperNet',\n",
        "#                   'name': 'password',\n",
        "#                   'placeholder': '********',\n",
        "#                   'type': 'password',\n",
        "#                   'validation': '^\\\\w{8}$',\n",
        "#                   'validation_message': 'Requiere 8 letras y/o dígitos sin '\n",
        "#                                         'carácteres especiales'}],\n",
        "#  'logo': 'https://belvo-api-media-sandbox.s3.amazonaws.com/logos/santander.png',\n",
        "#  'name': 'santander_mx_retail',\n",
        "#  'primary_color': '#ec0000',\n",
        "#  'type': 'bank',\n",
        "#  'website': 'https://www.santander.com.mx/'}\n"
      ],
      "execution_count": null,
      "outputs": []
    },
    {
      "cell_type": "markdown",
      "metadata": {
        "id": "F_z5JpZ7_d3n",
        "colab_type": "text"
      },
      "source": [
        ""
      ]
    },
    {
      "cell_type": "code",
      "metadata": {
        "id": "oFE8Aitq_eYS",
        "colab_type": "code",
        "colab": {}
      },
      "source": [
        ""
      ],
      "execution_count": null,
      "outputs": []
    }
  ]
}